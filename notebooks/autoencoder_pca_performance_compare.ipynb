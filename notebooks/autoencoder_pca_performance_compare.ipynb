{
 "cells": [
  {
   "cell_type": "code",
   "execution_count": 1,
   "metadata": {},
   "outputs": [],
   "source": [
    "import sys\n",
    "sys.path.append('../code/')\n",
    "\n",
    "import numpy as np\n",
    "import pandas as pd\n",
    "import matplotlib.pyplot as plt\n",
    "import seaborn as sns\n",
    "import torch\n",
    "from torch import nn\n",
    "import matplotlib.pyplot as plt\n",
    "from sklearn.model_selection import ShuffleSplit\n",
    "import os\n",
    "from sklearn.preprocessing import StandardScaler, MinMaxScaler\n",
    "from sklearn.decomposition import PCA\n",
    "from nilearn import datasets, plotting\n",
    "\n",
    "from mamba_ssm import Mamba\n",
    "\n",
    "import utils\n",
    "from train_ann_sweep import get_generators\n",
    "import pickle\n",
    "from train_ann_sweep import get_generators\n",
    "\n",
    "device = torch.device(\"cuda:0\")\n",
    "# device = torch.device(\"cpu\")"
   ]
  },
  {
   "cell_type": "code",
   "execution_count": 3,
   "metadata": {},
   "outputs": [],
   "source": [
    "atlas = datasets.fetch_atlas_msdl()\n",
    "# Loading atlas image stored in 'maps'\n",
    "atlas_filename = atlas[\"maps\"]\n",
    "# Loading atlas data stored in 'labels'\n",
    "labels = atlas[\"labels\"]\n",
    "\n",
    "df = pd.read_pickle('../data/developmental_df.pkl')\n",
    "n_subjects = len(np.unique(df['subj'].values))\n",
    "\n",
    "time_series = df.iloc[:,:-1].values\n",
    "\n",
    "# pca = PCA(n_components=39)\n",
    "# points = pca.fit_transform(time_series)\n"
   ]
  },
  {
   "cell_type": "code",
   "execution_count": null,
   "metadata": {},
   "outputs": [],
   "source": []
  },
  {
   "cell_type": "code",
   "execution_count": 4,
   "metadata": {},
   "outputs": [
    {
     "name": "stdout",
     "output_type": "stream",
     "text": [
      "[1, 3, 5, 7, 9, 11, 13, 15]\n"
     ]
    }
   ],
   "source": [
    "with open('../data/ann_bottleneck_sweep_results.pkl', 'rb') as f:\n",
    "    metadata = pickle.load(f)\n",
    "print(metadata['bottleneck_values'])\n",
    "\n",
    "cv_dict = metadata['bottleneck_1']['fold_0']['metadata']['cv_dict']"
   ]
  },
  {
   "cell_type": "code",
   "execution_count": 30,
   "metadata": {},
   "outputs": [],
   "source": [
    "def get_autoencoder_mse(training_set, validation_set, fold=0, bottleneck=15):\n",
    "    fold\n",
    "    input_size = 39\n",
    "    encoder_layer_size = [500, 300, 100]\n",
    "    decoder_layer_size = encoder_layer_size[::-1]\n",
    "\n",
    "\n",
    "    model = utils.model_ann_autoencoder(input_size, encoder_layer_size, decoder_layer_size, bottleneck=bottleneck).to(device)\n",
    "    state_dict = torch.load(f'../models/ann/bottleneck/ann_fold{fold}_bottleneck{bottleneck}.pt')\n",
    "    model.load_state_dict(state_dict)\n",
    "\n",
    "    model.eval()\n",
    "    with torch.no_grad():\n",
    "        y_pred = model(training_set[:].float().to(device))[0].detach().cpu().numpy()\n",
    "    return y_pred\n",
    "\n",
    "   \n",
    "\n",
    "def get_pca_mse(training_set, validation_set, fold=0, bottleneck=15):\n",
    "\n",
    "    explained_var = np.cumsum(pca.explained_variance_ratio_)\n",
    "    explained_var = np.concatenate([[0], explained_var])\n",
    "    thresh_pos = np.argmin(np.abs(explained_var - 0.8))\n",
    "\n",
    "\n"
   ]
  },
  {
   "cell_type": "code",
   "execution_count": 31,
   "metadata": {},
   "outputs": [],
   "source": [
    "fold = 0\n",
    "bottleneck = 15\n",
    "\n",
    "generators, data_arrays = get_generators(df, cv_dict, fold=fold)\n",
    "training_generator, _, validation_generator, _ = generators\n",
    "training_set, _, validation_set = data_arrays"
   ]
  },
  {
   "cell_type": "code",
   "execution_count": 32,
   "metadata": {},
   "outputs": [
    {
     "data": {
      "text/plain": [
       "array([[[ 0.31770268,  0.36189893,  1.4210453 , ...,  0.10869498,\n",
       "          0.49367625,  0.65483284],\n",
       "        [-0.32437745,  0.28659242,  1.9209124 , ...,  1.4178104 ,\n",
       "         -1.2053497 ,  1.5954993 ],\n",
       "        [ 0.43880537,  2.5116465 ,  2.6639009 , ...,  1.9699343 ,\n",
       "         -1.0985781 ,  2.7051704 ],\n",
       "        ...,\n",
       "        [ 1.0592061 ,  1.9051914 , -0.10697276, ..., -0.35990676,\n",
       "         -0.02265709, -0.15284565],\n",
       "        [-0.8116818 ,  0.9465032 ,  0.05225476, ...,  1.714603  ,\n",
       "          0.7222819 ,  0.7595777 ],\n",
       "        [-1.258226  , -0.4820231 , -0.07289536, ...,  1.0465602 ,\n",
       "         -1.0027535 ,  2.5083678 ]],\n",
       "\n",
       "       [[-0.32437745,  0.28659242,  1.9209124 , ...,  1.4178104 ,\n",
       "         -1.2053497 ,  1.5954993 ],\n",
       "        [ 0.43880537,  2.5116465 ,  2.6639009 , ...,  1.9699343 ,\n",
       "         -1.0985781 ,  2.7051704 ],\n",
       "        [ 0.7723978 ,  0.58849937,  2.1524105 , ...,  0.42968118,\n",
       "          0.92690057,  0.08305342],\n",
       "        ...,\n",
       "        [-0.8116818 ,  0.9465032 ,  0.05225476, ...,  1.714603  ,\n",
       "          0.7222819 ,  0.7595777 ],\n",
       "        [-1.258226  , -0.4820231 , -0.07289536, ...,  1.0465602 ,\n",
       "         -1.0027535 ,  2.5083678 ],\n",
       "        [ 0.09646769,  0.62147266, -1.5011101 , ..., -2.6592796 ,\n",
       "         -1.9213467 ,  0.84562045]],\n",
       "\n",
       "       [[ 0.43880537,  2.5116465 ,  2.6639009 , ...,  1.9699343 ,\n",
       "         -1.0985781 ,  2.7051704 ],\n",
       "        [ 0.7723978 ,  0.58849937,  2.1524105 , ...,  0.42968118,\n",
       "          0.92690057,  0.08305342],\n",
       "        [ 1.0128053 ,  1.2142084 ,  1.0816841 , ..., -0.669462  ,\n",
       "          0.4143828 , -0.22447966],\n",
       "        ...,\n",
       "        [-1.258226  , -0.4820231 , -0.07289536, ...,  1.0465602 ,\n",
       "         -1.0027535 ,  2.5083678 ],\n",
       "        [ 0.09646769,  0.62147266, -1.5011101 , ..., -2.6592796 ,\n",
       "         -1.9213467 ,  0.84562045],\n",
       "        [ 0.9905322 ,  1.5305333 , -0.02405208, ...,  0.57595116,\n",
       "         -0.62847424, -0.05421895]],\n",
       "\n",
       "       ...,\n",
       "\n",
       "       [[-0.09321479,  0.26047492, -0.7868478 , ..., -0.08340837,\n",
       "          0.39951524,  0.31482053],\n",
       "        [ 0.4089285 ,  0.57269835,  0.573625  , ..., -0.22009254,\n",
       "         -0.27859998, -0.00981459],\n",
       "        [ 0.05164238,  0.33626053,  0.326617  , ..., -1.5506141 ,\n",
       "         -0.8731811 , -0.9365464 ],\n",
       "        ...,\n",
       "        [-0.89950454, -0.3720155 ,  0.13912487, ...,  0.73522687,\n",
       "         -1.1412853 , -0.21020281],\n",
       "        [-0.7568941 , -1.1569417 ,  0.79107714, ...,  0.845358  ,\n",
       "         -0.57358   , -0.16856274],\n",
       "        [-0.13413875, -0.54945683,  1.720176  , ..., -0.20623016,\n",
       "         -0.29745507, -0.4676754 ]],\n",
       "\n",
       "       [[ 0.4089285 ,  0.57269835,  0.573625  , ..., -0.22009254,\n",
       "         -0.27859998, -0.00981459],\n",
       "        [ 0.05164238,  0.33626053,  0.326617  , ..., -1.5506141 ,\n",
       "         -0.8731811 , -0.9365464 ],\n",
       "        [ 0.11419526,  0.07225048, -0.09968886, ..., -0.4193608 ,\n",
       "         -0.1046984 , -0.841899  ],\n",
       "        ...,\n",
       "        [-0.7568941 , -1.1569417 ,  0.79107714, ...,  0.845358  ,\n",
       "         -0.57358   , -0.16856274],\n",
       "        [-0.13413875, -0.54945683,  1.720176  , ..., -0.20623016,\n",
       "         -0.29745507, -0.4676754 ],\n",
       "        [-0.72214085, -1.2595189 ,  1.329721  , ...,  0.09106104,\n",
       "         -0.31272143, -0.2794451 ]],\n",
       "\n",
       "       [[ 0.05164238,  0.33626053,  0.326617  , ..., -1.5506141 ,\n",
       "         -0.8731811 , -0.9365464 ],\n",
       "        [ 0.11419526,  0.07225048, -0.09968886, ..., -0.4193608 ,\n",
       "         -0.1046984 , -0.841899  ],\n",
       "        [ 0.9304724 ,  0.5511825 ,  0.66989875, ...,  0.02172889,\n",
       "          0.43848282,  0.17023377],\n",
       "        ...,\n",
       "        [-0.13413875, -0.54945683,  1.720176  , ..., -0.20623016,\n",
       "         -0.29745507, -0.4676754 ],\n",
       "        [-0.72214085, -1.2595189 ,  1.329721  , ...,  0.09106104,\n",
       "         -0.31272143, -0.2794451 ],\n",
       "        [-0.24318776, -0.3080909 ,  0.7593679 , ..., -0.6128442 ,\n",
       "         -0.7143312 ,  0.07918997]]], dtype=float32)"
      ]
     },
     "execution_count": 32,
     "metadata": {},
     "output_type": "execute_result"
    }
   ],
   "source": [
    "get_autoencoder_mse(training_set, validation_set, fold=0, bottleneck=15)"
   ]
  },
  {
   "cell_type": "code",
   "execution_count": null,
   "metadata": {},
   "outputs": [],
   "source": []
  }
 ],
 "metadata": {
  "kernelspec": {
   "display_name": "metanets",
   "language": "python",
   "name": "python3"
  },
  "language_info": {
   "codemirror_mode": {
    "name": "ipython",
    "version": 3
   },
   "file_extension": ".py",
   "mimetype": "text/x-python",
   "name": "python",
   "nbconvert_exporter": "python",
   "pygments_lexer": "ipython3",
   "version": "3.10.0"
  }
 },
 "nbformat": 4,
 "nbformat_minor": 2
}
