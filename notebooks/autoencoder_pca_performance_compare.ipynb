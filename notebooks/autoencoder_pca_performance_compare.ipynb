{
 "cells": [
  {
   "cell_type": "code",
   "execution_count": 33,
   "metadata": {},
   "outputs": [],
   "source": [
    "import sys\n",
    "sys.path.append('../code/')\n",
    "\n",
    "import numpy as np\n",
    "import pandas as pd\n",
    "import matplotlib.pyplot as plt\n",
    "import seaborn as sns\n",
    "import torch\n",
    "from torch import nn\n",
    "import matplotlib.pyplot as plt\n",
    "from sklearn.model_selection import ShuffleSplit\n",
    "import os\n",
    "from sklearn.preprocessing import StandardScaler, MinMaxScaler\n",
    "from sklearn.decomposition import PCA\n",
    "from nilearn import datasets, plotting\n",
    "\n",
    "from mamba_ssm import Mamba\n",
    "\n",
    "import utils\n",
    "from train_ann_sweep import get_generators\n",
    "import pickle\n",
    "from train_ann_sweep import get_generators\n",
    "\n",
    "device = torch.device(\"cuda:0\")\n",
    "# device = torch.device(\"cpu\")"
   ]
  },
  {
   "cell_type": "code",
   "execution_count": 34,
   "metadata": {},
   "outputs": [],
   "source": [
    "atlas = datasets.fetch_atlas_msdl()\n",
    "# Loading atlas image stored in 'maps'\n",
    "atlas_filename = atlas[\"maps\"]\n",
    "# Loading atlas data stored in 'labels'\n",
    "labels = atlas[\"labels\"]\n",
    "\n",
    "df = pd.read_pickle('../data/developmental_df.pkl')\n",
    "n_subjects = len(np.unique(df['subj'].values))\n",
    "\n",
    "time_series = df.iloc[:,:-1].values\n",
    "\n",
    "# pca = PCA(n_components=39)\n",
    "# points = pca.fit_transform(time_series)\n"
   ]
  },
  {
   "cell_type": "code",
   "execution_count": null,
   "metadata": {},
   "outputs": [],
   "source": []
  },
  {
   "cell_type": "code",
   "execution_count": 35,
   "metadata": {},
   "outputs": [
    {
     "name": "stdout",
     "output_type": "stream",
     "text": [
      "[1, 3, 5, 7, 9, 11, 13, 15]\n"
     ]
    }
   ],
   "source": [
    "with open('../data/ann_bottleneck_sweep_results.pkl', 'rb') as f:\n",
    "    metadata = pickle.load(f)\n",
    "print(metadata['bottleneck_values'])\n",
    "\n",
    "cv_dict = metadata['bottleneck_1']['fold_0']['metadata']['cv_dict']"
   ]
  },
  {
   "cell_type": "code",
   "execution_count": 120,
   "metadata": {},
   "outputs": [],
   "source": [
    "criterion = nn.MSELoss()\n",
    "\n",
    "def get_autoencoder_mse(training_set, validation_set, fold=0, bottleneck=15):\n",
    "    fold\n",
    "    input_size = 39\n",
    "    encoder_layer_size = [500, 300, 100]\n",
    "    decoder_layer_size = encoder_layer_size[::-1]\n",
    "\n",
    "\n",
    "    model = utils.model_ann_autoencoder(input_size, encoder_layer_size, decoder_layer_size, bottleneck=bottleneck).to(device)\n",
    "    state_dict = torch.load(f'../models/ann/bottleneck/ann_fold{fold}_bottleneck{bottleneck}.pt')\n",
    "    model.load_state_dict(state_dict)\n",
    "\n",
    "    model.eval()\n",
    "    with torch.no_grad():\n",
    "        y_pred_train = model(training_set[:].float().to(device))[0].detach().cpu()\n",
    "        y_pred_val = model(validation_set[:].float().to(device))[0].detach().cpu()\n",
    "\n",
    "    return criterion(training_set[:], y_pred_train).numpy(), criterion(validation_set[:], y_pred_val).numpy(),\n",
    "\n",
    "   \n",
    "\n",
    "def get_pca_mse(training_set, validation_set, fold=0, bottleneck=15):\n",
    "\n",
    "    pca = PCA(n_components=bottleneck)\n",
    "    batch_num, num_times, num_features = training_set[:].shape\n",
    "\n",
    "    train_points = pca.fit_transform(training_set[:].numpy().reshape(-1, num_features))\n",
    "    val_points = pca.transform(validation_set[:].numpy().reshape(-1, num_features))\n",
    "\n",
    "    y_pred_train = torch.tensor(pca.inverse_transform(train_points).reshape(training_set[:].shape))\n",
    "    y_pred_val = torch.tensor(pca.inverse_transform(val_points).reshape(validation_set[:].shape))\n",
    "\n",
    "    return criterion(training_set[:], y_pred_train).numpy(), criterion(validation_set[:], y_pred_val).numpy()\n",
    "\n",
    "\n",
    "    # explained_var = np.cumsum(pca.explained_variance_ratio_)\n",
    "    # explained_var = np.concatenate([[0], explained_var])\n",
    "    # thresh_pos = np.argmin(np.abs(explained_var - 0.8))\n",
    "\n",
    "\n"
   ]
  },
  {
   "cell_type": "code",
   "execution_count": 121,
   "metadata": {},
   "outputs": [],
   "source": [
    "fold = 0\n",
    "bottleneck = 15\n",
    "\n",
    "generators, data_arrays = get_generators(df, cv_dict, fold=fold)\n",
    "training_generator, _, validation_generator, _ = generators\n",
    "training_set, _, validation_set = data_arrays"
   ]
  },
  {
   "cell_type": "code",
   "execution_count": 129,
   "metadata": {},
   "outputs": [
    {
     "data": {
      "text/plain": [
       "(array(0.44662055), array(0.45390814))"
      ]
     },
     "execution_count": 129,
     "metadata": {},
     "output_type": "execute_result"
    }
   ],
   "source": [
    "get_autoencoder_mse(training_set, validation_set, fold=1, bottleneck=9)"
   ]
  },
  {
   "cell_type": "code",
   "execution_count": 130,
   "metadata": {},
   "outputs": [
    {
     "data": {
      "text/plain": [
       "(array(0.34506669), array(0.33747592))"
      ]
     },
     "execution_count": 130,
     "metadata": {},
     "output_type": "execute_result"
    }
   ],
   "source": [
    "get_pca_mse(training_set, validation_set, fold=1, bottleneck=9)"
   ]
  },
  {
   "cell_type": "code",
   "execution_count": 82,
   "metadata": {},
   "outputs": [
    {
     "data": {
      "text/plain": [
       "26040"
      ]
     },
     "execution_count": 82,
     "metadata": {},
     "output_type": "execute_result"
    }
   ],
   "source": [
    "len(df)"
   ]
  },
  {
   "cell_type": "code",
   "execution_count": null,
   "metadata": {},
   "outputs": [],
   "source": []
  },
  {
   "cell_type": "code",
   "execution_count": null,
   "metadata": {},
   "outputs": [],
   "source": []
  }
 ],
 "metadata": {
  "kernelspec": {
   "display_name": "metanets",
   "language": "python",
   "name": "python3"
  },
  "language_info": {
   "codemirror_mode": {
    "name": "ipython",
    "version": 3
   },
   "file_extension": ".py",
   "mimetype": "text/x-python",
   "name": "python",
   "nbconvert_exporter": "python",
   "pygments_lexer": "ipython3",
   "version": "3.10.0"
  }
 },
 "nbformat": 4,
 "nbformat_minor": 2
}
